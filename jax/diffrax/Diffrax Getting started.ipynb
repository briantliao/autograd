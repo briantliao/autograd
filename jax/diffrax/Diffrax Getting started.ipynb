{
 "cells": [
  {
   "cell_type": "code",
   "execution_count": 1,
   "id": "fcdca624-3e0c-46f0-984d-8cf83f06d971",
   "metadata": {},
   "outputs": [
    {
     "name": "stdout",
     "output_type": "stream",
     "text": [
      "[0. 1. 2. 3.]\n",
      "[1.         0.36788362 0.13533914 0.04978964]\n"
     ]
    }
   ],
   "source": [
    "from diffrax import diffeqsolve, Dopri5, ODETerm, SaveAt, PIDController\n",
    "\n",
    "vector_field = lambda t, y, args: -y\n",
    "term = ODETerm(vector_field)\n",
    "solver = Dopri5()\n",
    "saveat = SaveAt(ts=[0., 1., 2., 3.])\n",
    "stepsize_controller = PIDController(rtol=1e-5, atol=1e-5)\n",
    "\n",
    "sol = diffeqsolve(term, solver, t0=0, t1=3, dt0=0.1, y0=1, saveat=saveat,\n",
    "                  stepsize_controller=stepsize_controller)\n",
    "\n",
    "print(sol.ts)  # DeviceArray([0.   , 1.   , 2.   , 3.    ])\n",
    "print(sol.ys)  # DeviceArray([1.   , 0.368, 0.135, 0.0498])"
   ]
  },
  {
   "cell_type": "code",
   "execution_count": 2,
   "id": "0072053b-5e6c-4756-8686-3192777686a0",
   "metadata": {},
   "outputs": [
    {
     "name": "stdout",
     "output_type": "stream",
     "text": [
      "0.96505475\n"
     ]
    }
   ],
   "source": [
    "import jax.random as jr\n",
    "from diffrax import diffeqsolve, ControlTerm, Euler, MultiTerm, ODETerm, SaveAt, VirtualBrownianTree\n",
    "\n",
    "t0, t1 = 1, 3\n",
    "drift = lambda t, y, args: -y\n",
    "diffusion = lambda t, y, args: 0.1 * t\n",
    "brownian_motion = VirtualBrownianTree(t0, t1, tol=1e-3, shape=(), key=jr.PRNGKey(0))\n",
    "terms = MultiTerm(ODETerm(drift), ControlTerm(diffusion, brownian_motion))\n",
    "solver = Euler()\n",
    "saveat = SaveAt(dense=True)\n",
    "\n",
    "sol = diffeqsolve(terms, solver, t0, t1, dt0=0.05, y0=1.0, saveat=saveat)\n",
    "print(sol.evaluate(1.1))  # DeviceArray(0.89436394)"
   ]
  },
  {
   "cell_type": "code",
   "execution_count": 3,
   "id": "7e80f30e-2ec3-4e54-b557-75e5482ff4b0",
   "metadata": {},
   "outputs": [
    {
     "name": "stdout",
     "output_type": "stream",
     "text": [
      "[3.]\n",
      "[0.00012341]\n"
     ]
    }
   ],
   "source": [
    "from diffrax import AbstractPath, ControlTerm, diffeqsolve, Dopri5\n",
    "\n",
    "\n",
    "class QuadraticPath(AbstractPath):\n",
    "    @property\n",
    "    def t0(self):\n",
    "        return 0\n",
    "\n",
    "    @property\n",
    "    def t1(self):\n",
    "        return 3\n",
    "\n",
    "    def evaluate(self, t0, t1=None, left=True):\n",
    "        del left\n",
    "        if t1 is not None:\n",
    "            return self.evaluate(t1) - self.evaluate(t0)\n",
    "        return t0 ** 2\n",
    "\n",
    "\n",
    "vector_field = lambda t, y, args: -y\n",
    "control = QuadraticPath()\n",
    "term = ControlTerm(vector_field, control).to_ode()\n",
    "solver = Dopri5()\n",
    "sol = diffeqsolve(term, solver, t0=0, t1=3, dt0=0.05, y0=1)\n",
    "\n",
    "print(sol.ts)  # DeviceArray([3.])\n",
    "print(sol.ys)  # DeviceArray([0.00012341])"
   ]
  },
  {
   "cell_type": "code",
   "execution_count": null,
   "id": "504b6c45-258e-4697-a1aa-c34c66e424aa",
   "metadata": {},
   "outputs": [],
   "source": []
  }
 ],
 "metadata": {
  "kernelspec": {
   "display_name": "Python 3 (ipykernel)",
   "language": "python",
   "name": "python3"
  },
  "language_info": {
   "codemirror_mode": {
    "name": "ipython",
    "version": 3
   },
   "file_extension": ".py",
   "mimetype": "text/x-python",
   "name": "python",
   "nbconvert_exporter": "python",
   "pygments_lexer": "ipython3",
   "version": "3.11.3"
  }
 },
 "nbformat": 4,
 "nbformat_minor": 5
}
